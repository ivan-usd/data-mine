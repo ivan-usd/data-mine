{
 "cells": [
  {
   "cell_type": "markdown",
   "source": [
    "# Logistic Regression Notebook"
   ],
   "metadata": {
    "collapsed": false
   }
  },
  {
   "cell_type": "code",
   "execution_count": 113,
   "metadata": {
    "collapsed": true
   },
   "outputs": [],
   "source": [
    "import pandas as pd\n",
    "import seaborn as sns\n",
    "import matplotlib.pyplot as plt\n",
    "from sklearn.model_selection import train_test_split\n",
    "import statsmodels.api as sm\n",
    "from sklearn import metrics"
   ]
  },
  {
   "cell_type": "markdown",
   "source": [
    "## Testing for initial hypothesis LeaveOrNot ~ Gender + EverBenched + PaymentTier"
   ],
   "metadata": {
    "collapsed": false
   }
  },
  {
   "cell_type": "code",
   "execution_count": 114,
   "outputs": [],
   "source": [
    "employee = pd.read_csv(\"../data/employee_cleaned.csv\")"
   ],
   "metadata": {
    "collapsed": false,
    "pycharm": {
     "name": "#%%\n"
    }
   }
  },
  {
   "cell_type": "markdown",
   "source": [
    "## Encoding Categories via panda dummy variables"
   ],
   "metadata": {
    "collapsed": false
   }
  },
  {
   "cell_type": "code",
   "execution_count": 115,
   "outputs": [],
   "source": [
    "employee = pd.get_dummies(employee, columns=[\"Gender\", \"EverBenched\",\"PaymentTier\"])\n",
    "employee = employee.drop(columns=['Age', 'Education', 'ExperienceInCurrentDomain','City','JoiningYear','Duration'])"
   ],
   "metadata": {
    "collapsed": false,
    "pycharm": {
     "name": "#%%\n"
    }
   }
  },
  {
   "cell_type": "markdown",
   "source": [
    "## Partition Data prior to training model"
   ],
   "metadata": {
    "collapsed": false
   }
  },
  {
   "cell_type": "code",
   "execution_count": 116,
   "outputs": [
    {
     "name": "stderr",
     "output_type": "stream",
     "text": [
      "/Users/ivan/opt/anaconda3/lib/python3.9/site-packages/statsmodels/tsa/tsatools.py:142: FutureWarning: In a future version of pandas all arguments of concat except for the argument 'objs' will be keyword-only\n",
      "  x = pd.concat(x[::order], 1)\n"
     ]
    }
   ],
   "source": [
    "X = employee.loc[:, employee.columns != 'LeaveOrNot']\n",
    "X = sm.add_constant(X)\n",
    "y = employee.loc[:, employee.columns == 'LeaveOrNot']"
   ],
   "metadata": {
    "collapsed": false,
    "pycharm": {
     "name": "#%%\n"
    }
   }
  },
  {
   "cell_type": "code",
   "execution_count": 117,
   "outputs": [],
   "source": [
    "X_train, X_test, y_train, y_test = train_test_split(X, y, test_size=0.40, random_state=7)"
   ],
   "metadata": {
    "collapsed": false,
    "pycharm": {
     "name": "#%%\n"
    }
   }
  },
  {
   "cell_type": "code",
   "execution_count": 118,
   "outputs": [
    {
     "data": {
      "text/plain": "<AxesSubplot:xlabel='LeaveOrNot', ylabel='count'>"
     },
     "execution_count": 118,
     "metadata": {},
     "output_type": "execute_result"
    },
    {
     "data": {
      "text/plain": "<Figure size 432x288 with 1 Axes>",
      "image/png": "[encoded data removed]"
     },
     "metadata": {
      "needs_background": "light"
     },
     "output_type": "display_data"
    }
   ],
   "source": [
    "sns.countplot(x=\"LeaveOrNot\", data = y_train)"
   ],
   "metadata": {
    "collapsed": false,
    "pycharm": {
     "name": "#%%\n"
    }
   }
  },
  {
   "cell_type": "code",
   "execution_count": 119,
   "outputs": [
    {
     "data": {
      "text/plain": "<AxesSubplot:xlabel='LeaveOrNot', ylabel='count'>"
     },
     "execution_count": 119,
     "metadata": {},
     "output_type": "execute_result"
    },
    {
     "data": {
      "text/plain": "<Figure size 432x288 with 1 Axes>",
      "image/png": "[encoded data removed]"
     },
     "metadata": {
      "needs_background": "light"
     },
     "output_type": "display_data"
    }
   ],
   "source": [
    "sns.countplot(x=\"LeaveOrNot\", data = y_test)"
   ],
   "metadata": {
    "collapsed": false,
    "pycharm": {
     "name": "#%%\n"
    }
   }
  },
  {
   "cell_type": "markdown",
   "source": [
    "## Executing Logistic Regression"
   ],
   "metadata": {
    "collapsed": false
   }
  },
  {
   "cell_type": "code",
   "execution_count": 120,
   "outputs": [],
   "source": [
    "from sklearn.linear_model import LogisticRegression\n",
    "\n",
    "logReg = LogisticRegression().fit(X_train, y_train.values.ravel())"
   ],
   "metadata": {
    "collapsed": false,
    "pycharm": {
     "name": "#%%\n"
    }
   }
  },
  {
   "cell_type": "markdown",
   "source": [
    "## Predicting Values and Evaluating Metrics"
   ],
   "metadata": {
    "collapsed": false
   }
  },
  {
   "cell_type": "code",
   "execution_count": 121,
   "outputs": [
    {
     "name": "stdout",
     "output_type": "stream",
     "text": [
      "Predicted    0    1  Total\n",
      "Actual                    \n",
      "0          599   51    650\n",
      "1          351  105    456\n",
      "Total      950  156   1106\n"
     ]
    }
   ],
   "source": [
    "y_pred = logReg.predict(X_test)\n",
    "ypred = pd.crosstab(y_test['LeaveOrNot'], y_pred, rownames=['Actual'], colnames=['Predicted'])\n",
    "ypred['Total'] = ypred.sum(axis=1);\n",
    "ypred.loc['Total'] = ypred.sum()\n",
    "print(ypred)"
   ],
   "metadata": {
    "collapsed": false,
    "pycharm": {
     "name": "#%%\n"
    }
   }
  },
  {
   "cell_type": "code",
   "execution_count": 122,
   "outputs": [
    {
     "data": {
      "text/plain": "<Figure size 432x288 with 1 Axes>",
      "image/png": "[encoded data removed]"
     },
     "metadata": {
      "needs_background": "light"
     },
     "output_type": "display_data"
    }
   ],
   "source": [
    "y_pred_proba = logReg.predict_proba(X_test)[::,1]\n",
    "fpr, tpr, _ = metrics.roc_curve(y_test,  y_pred_proba)\n",
    "auc = metrics.roc_auc_score(y_test, y_pred_proba)\n",
    "plt.plot(fpr,tpr,label=\"data 1, auc=\"+str(auc))\n",
    "plt.legend(loc=4)\n",
    "plt.show()"
   ],
   "metadata": {
    "collapsed": false,
    "pycharm": {
     "name": "#%%\n"
    }
   }
  },
  {
   "cell_type": "code",
   "execution_count": 123,
   "outputs": [],
   "source": [
    "TP = ypred[1][1]\n",
    "TN = ypred[0][0]\n",
    "FP = ypred[1][0]\n",
    "FN = ypred[0][1]\n",
    "TAN = TN + FP\n",
    "TAP = FN + TP\n",
    "TPN = TN + FN\n",
    "TPP = FP + TP\n",
    "GT = ypred['Total']['Total']"
   ],
   "metadata": {
    "collapsed": false,
    "pycharm": {
     "name": "#%%\n"
    }
   }
  },
  {
   "cell_type": "code",
   "execution_count": 124,
   "outputs": [],
   "source": [
    "from tabulate import tabulate"
   ],
   "metadata": {
    "collapsed": false,
    "pycharm": {
     "name": "#%%\n"
    }
   }
  },
  {
   "cell_type": "code",
   "execution_count": 125,
   "outputs": [],
   "source": [
    "accuracy = round((TN + TP) / GT, 4)\n",
    "sensitivity = round(TP / TAP, 4)\n",
    "specificity = round(TN / TAN, 4)\n",
    "precision = round(TP / TPP, 4)\n",
    "recall = round(TP / (TP + FN), 4)\n",
    "pxr = precision * recall\n",
    "ppr = precision + recall\n",
    "F1 = round((pxr / ppr) * 2, 4)\n",
    "F2 = round((pxr / ((4 * precision) + recall)) * 5, 4)\n",
    "F05 = round((pxr / ((0.25 * precision) + recall)) * 1.25, 4)"
   ],
   "metadata": {
    "collapsed": false,
    "pycharm": {
     "name": "#%%\n"
    }
   }
  },
  {
   "cell_type": "code",
   "execution_count": 126,
   "outputs": [
    {
     "name": "stdout",
     "output_type": "stream",
     "text": [
      "╒══════════════════════╤═══════════════════════════════════════════════════╤═════════╕\n",
      "│ Evaluation Measure   │ Formula                                           │   Value │\n",
      "╞══════════════════════╪═══════════════════════════════════════════════════╪═════════╡\n",
      "│ Accuracy             │ (TN+TP)/GT                                        │  0.6365 │\n",
      "├──────────────────────┼───────────────────────────────────────────────────┼─────────┤\n",
      "│ Error rate           │ 1-Accuracy                                        │  0.3635 │\n",
      "├──────────────────────┼───────────────────────────────────────────────────┼─────────┤\n",
      "│ Sensitivity = Recall │ TP/TAP                                            │  0.2303 │\n",
      "├──────────────────────┼───────────────────────────────────────────────────┼─────────┤\n",
      "│ Specificity          │ TN/TAN                                            │  0.9215 │\n",
      "├──────────────────────┼───────────────────────────────────────────────────┼─────────┤\n",
      "│ Precision            │ TP/TPP                                            │  0.6731 │\n",
      "├──────────────────────┼───────────────────────────────────────────────────┼─────────┤\n",
      "│ F1                   │ 2*(precision*recall)/(precision+recall)           │  0.3432 │\n",
      "├──────────────────────┼───────────────────────────────────────────────────┼─────────┤\n",
      "│ F2                   │ 5*(precision*recall)/((4*precision)+recall)       │  0.2652 │\n",
      "├──────────────────────┼───────────────────────────────────────────────────┼─────────┤\n",
      "│ F0.5                 │ 1.25*(precision*recall)/((0.25*precision)+recall) │  0.4862 │\n",
      "╘══════════════════════╧═══════════════════════════════════════════════════╧═════════╛\n"
     ]
    }
   ],
   "source": [
    "data = [[\"Accuracy\", \"(TN+TP)/GT\", accuracy], [\"Error rate\", \"1-Accuracy\", 1 - accuracy],\n",
    "        [\"Sensitivity = Recall\", \"TP/TAP\", sensitivity], [\"Specificity\", \"TN/TAN\", specificity],\n",
    "        [\"Precision\", \"TP/TPP\", precision], [\"F1\", \"2*(precision*recall)/(precision+recall)\", F1],\n",
    "        [\"F2\", \"5*(precision*recall)/((4*precision)+recall)\", F2],\n",
    "        [\"F0.5\", \"1.25*(precision*recall)/((0.25*precision)+recall)\", F05]]\n",
    "col_names = [\"Evaluation Measure\", \"Formula\", \"Value\"]\n",
    "print(tabulate(data, headers=col_names, tablefmt=\"fancy_grid\"))"
   ],
   "metadata": {
    "collapsed": false,
    "pycharm": {
     "name": "#%%\n"
    }
   }
  },
  {
   "cell_type": "markdown",
   "source": [
    "## Testing for alt hypothesis LeaveOrNot ~ City + Gender + Duration + PaymentTier"
   ],
   "metadata": {
    "collapsed": false
   }
  },
  {
   "cell_type": "code",
   "execution_count": 127,
   "outputs": [],
   "source": [
    "employee = pd.read_csv(\"../data/employee_cleaned.csv\")"
   ],
   "metadata": {
    "collapsed": false,
    "pycharm": {
     "name": "#%%\n"
    }
   }
  },
  {
   "cell_type": "markdown",
   "source": [
    "## Encoding Categories via panda dummy variables"
   ],
   "metadata": {
    "collapsed": false
   }
  },
  {
   "cell_type": "code",
   "execution_count": 128,
   "outputs": [],
   "source": [
    "employee = pd.get_dummies(employee, columns=[\"City\",\"Gender\",\"Duration\", \"PaymentTier\"])\n",
    "employee = employee.drop(columns = ['Age','Education','EverBenched','ExperienceInCurrentDomain', 'JoiningYear'])"
   ],
   "metadata": {
    "collapsed": false,
    "pycharm": {
     "name": "#%%\n"
    }
   }
  },
  {
   "cell_type": "markdown",
   "source": [
    "## Partition Data prior to training model"
   ],
   "metadata": {
    "collapsed": false
   }
  },
  {
   "cell_type": "code",
   "execution_count": 129,
   "outputs": [
    {
     "name": "stderr",
     "output_type": "stream",
     "text": [
      "/Users/ivan/opt/anaconda3/lib/python3.9/site-packages/statsmodels/tsa/tsatools.py:142: FutureWarning: In a future version of pandas all arguments of concat except for the argument 'objs' will be keyword-only\n",
      "  x = pd.concat(x[::order], 1)\n"
     ]
    }
   ],
   "source": [
    "X = employee.loc[:, employee.columns != 'LeaveOrNot']\n",
    "X = sm.add_constant(X)\n",
    "y = employee.loc[:, employee.columns == 'LeaveOrNot']"
   ],
   "metadata": {
    "collapsed": false,
    "pycharm": {
     "name": "#%%\n"
    }
   }
  },
  {
   "cell_type": "code",
   "execution_count": 130,
   "outputs": [],
   "source": [
    "X_train, X_test, y_train, y_test = train_test_split(X, y, test_size=0.40, random_state=7)"
   ],
   "metadata": {
    "collapsed": false,
    "pycharm": {
     "name": "#%%\n"
    }
   }
  },
  {
   "cell_type": "markdown",
   "source": [
    "## Validating Partition"
   ],
   "metadata": {
    "collapsed": false
   }
  },
  {
   "cell_type": "code",
   "execution_count": 131,
   "outputs": [
    {
     "data": {
      "text/plain": "<AxesSubplot:xlabel='LeaveOrNot', ylabel='count'>"
     },
     "execution_count": 131,
     "metadata": {},
     "output_type": "execute_result"
    },
    {
     "data": {
      "text/plain": "<Figure size 432x288 with 1 Axes>",
      "image/png": "[encoded data removed]"
     },
     "metadata": {
      "needs_background": "light"
     },
     "output_type": "display_data"
    }
   ],
   "source": [
    "sns.countplot(x=\"LeaveOrNot\", data = y_train)"
   ],
   "metadata": {
    "collapsed": false,
    "pycharm": {
     "name": "#%%\n"
    }
   }
  },
  {
   "cell_type": "code",
   "execution_count": 132,
   "outputs": [
    {
     "data": {
      "text/plain": "<AxesSubplot:xlabel='LeaveOrNot', ylabel='count'>"
     },
     "execution_count": 132,
     "metadata": {},
     "output_type": "execute_result"
    },
    {
     "data": {
      "text/plain": "<Figure size 432x288 with 1 Axes>",
      "image/png": "[encoded data removed]"
     },
     "metadata": {
      "needs_background": "light"
     },
     "output_type": "display_data"
    }
   ],
   "source": [
    "sns.countplot(x=\"LeaveOrNot\", data = y_test)"
   ],
   "metadata": {
    "collapsed": false,
    "pycharm": {
     "name": "#%%\n"
    }
   }
  },
  {
   "cell_type": "markdown",
   "source": [
    "## Executing Logistic Regression"
   ],
   "metadata": {
    "collapsed": false
   }
  },
  {
   "cell_type": "code",
   "execution_count": 133,
   "outputs": [],
   "source": [
    "from sklearn.linear_model import LogisticRegression"
   ],
   "metadata": {
    "collapsed": false,
    "pycharm": {
     "name": "#%%\n"
    }
   }
  },
  {
   "cell_type": "code",
   "execution_count": 134,
   "outputs": [],
   "source": [
    "logReg = LogisticRegression().fit(X_train, y_train.values.ravel())"
   ],
   "metadata": {
    "collapsed": false,
    "pycharm": {
     "name": "#%%\n"
    }
   }
  },
  {
   "cell_type": "markdown",
   "source": [
    "## Predicting Values and Evaluating Metrics"
   ],
   "metadata": {
    "collapsed": false
   }
  },
  {
   "cell_type": "code",
   "execution_count": 135,
   "outputs": [],
   "source": [
    "y_pred = logReg.predict(X_test)"
   ],
   "metadata": {
    "collapsed": false,
    "pycharm": {
     "name": "#%%\n"
    }
   }
  },
  {
   "cell_type": "code",
   "execution_count": 136,
   "outputs": [
    {
     "name": "stdout",
     "output_type": "stream",
     "text": [
      "Predicted    0    1  Total\n",
      "Actual                    \n",
      "0          589   61    650\n",
      "1          227  229    456\n",
      "Total      816  290   1106\n"
     ]
    }
   ],
   "source": [
    "ypred = pd.crosstab(y_test['LeaveOrNot'], y_pred, rownames = ['Actual'], colnames = ['Predicted'])\n",
    "ypred['Total'] = ypred.sum(axis=1); ypred.loc['Total'] = ypred.sum()\n",
    "print(ypred)"
   ],
   "metadata": {
    "collapsed": false,
    "pycharm": {
     "name": "#%%\n"
    }
   }
  },
  {
   "cell_type": "code",
   "execution_count": 137,
   "outputs": [
    {
     "name": "stdout",
     "output_type": "stream",
     "text": [
      "Accuracy: 0.7396021699819169\n",
      "Precision: 0.7896551724137931\n",
      "Recall: 0.5021929824561403\n"
     ]
    }
   ],
   "source": [
    "print(\"Accuracy:\",metrics.accuracy_score(y_test, y_pred))\n",
    "print(\"Precision:\",metrics.precision_score(y_test, y_pred))\n",
    "print(\"Recall:\",metrics.recall_score(y_test, y_pred))"
   ],
   "metadata": {
    "collapsed": false,
    "pycharm": {
     "name": "#%%\n"
    }
   }
  },
  {
   "cell_type": "code",
   "execution_count": 138,
   "outputs": [
    {
     "data": {
      "text/plain": "<Figure size 432x288 with 1 Axes>",
      "image/png": "[encoded data removed]"
     },
     "metadata": {
      "needs_background": "light"
     },
     "output_type": "display_data"
    }
   ],
   "source": [
    "y_pred_proba = logReg.predict_proba(X_test)[::,1]\n",
    "fpr, tpr, _ = metrics.roc_curve(y_test,  y_pred_proba)\n",
    "auc = metrics.roc_auc_score(y_test, y_pred_proba)\n",
    "plt.plot(fpr,tpr,label=\"data 1, auc=\"+str(auc))\n",
    "plt.legend(loc=4)\n",
    "plt.show()"
   ],
   "metadata": {
    "collapsed": false,
    "pycharm": {
     "name": "#%%\n"
    }
   }
  },
  {
   "cell_type": "code",
   "execution_count": 139,
   "outputs": [],
   "source": [
    "TP = ypred[1][1]\n",
    "TN = ypred[0][0]\n",
    "FP = ypred[1][0]\n",
    "FN = ypred[0][1]\n",
    "TAN = TN + FP\n",
    "TAP = FN + TP\n",
    "TPN = TN + FN\n",
    "TPP = FP + TP\n",
    "GT = ypred['Total']['Total']"
   ],
   "metadata": {
    "collapsed": false,
    "pycharm": {
     "name": "#%%\n"
    }
   }
  },
  {
   "cell_type": "code",
   "execution_count": 140,
   "outputs": [],
   "source": [
    "\n",
    "from tabulate import tabulate"
   ],
   "metadata": {
    "collapsed": false,
    "pycharm": {
     "name": "#%%\n"
    }
   }
  },
  {
   "cell_type": "code",
   "execution_count": 141,
   "outputs": [],
   "source": [
    "accuracy = round((TN + TP) / GT, 4)\n",
    "sensitivity = round(TP / TAP, 4)\n",
    "specificity = round(TN / TAN, 4)\n",
    "precision = round(TP / TPP, 4)\n",
    "recall = round(TP / (TP + FN), 4)\n",
    "pxr = precision * recall\n",
    "ppr = precision + recall\n",
    "F1 = round((pxr / ppr) * 2, 4)\n",
    "F2 = round((pxr / ((4 * precision) + recall)) * 5, 4)\n",
    "F05 = round((pxr / ((0.25 * precision) + recall)) * 1.25, 4)"
   ],
   "metadata": {
    "collapsed": false,
    "pycharm": {
     "name": "#%%\n"
    }
   }
  },
  {
   "cell_type": "code",
   "execution_count": 142,
   "outputs": [
    {
     "name": "stdout",
     "output_type": "stream",
     "text": [
      "╒══════════════════════╤═══════════════════════════════════════════════════╤═════════╕\n",
      "│ Evaluation Measure   │ Formula                                           │   Value │\n",
      "╞══════════════════════╪═══════════════════════════════════════════════════╪═════════╡\n",
      "│ Accuracy             │ (TN+TP)/GT                                        │  0.7396 │\n",
      "├──────────────────────┼───────────────────────────────────────────────────┼─────────┤\n",
      "│ Error rate           │ 1-Accuracy                                        │  0.2604 │\n",
      "├──────────────────────┼───────────────────────────────────────────────────┼─────────┤\n",
      "│ Sensitivity = Recall │ TP/TAP                                            │  0.5022 │\n",
      "├──────────────────────┼───────────────────────────────────────────────────┼─────────┤\n",
      "│ Specificity          │ TN/TAN                                            │  0.9062 │\n",
      "├──────────────────────┼───────────────────────────────────────────────────┼─────────┤\n",
      "│ Precision            │ TP/TPP                                            │  0.7897 │\n",
      "├──────────────────────┼───────────────────────────────────────────────────┼─────────┤\n",
      "│ F1                   │ 2*(precision*recall)/(precision+recall)           │  0.614  │\n",
      "├──────────────────────┼───────────────────────────────────────────────────┼─────────┤\n",
      "│ F2                   │ 5*(precision*recall)/((4*precision)+recall)       │  0.5416 │\n",
      "├──────────────────────┼───────────────────────────────────────────────────┼─────────┤\n",
      "│ F0.5                 │ 1.25*(precision*recall)/((0.25*precision)+recall) │  0.7086 │\n",
      "╘══════════════════════╧═══════════════════════════════════════════════════╧═════════╛\n"
     ]
    }
   ],
   "source": [
    "data = [[\"Accuracy\", \"(TN+TP)/GT\", accuracy], [\"Error rate\", \"1-Accuracy\", 1 - accuracy],\n",
    "        [\"Sensitivity = Recall\", \"TP/TAP\", sensitivity], [\"Specificity\", \"TN/TAN\", specificity],\n",
    "        [\"Precision\", \"TP/TPP\", precision], [\"F1\", \"2*(precision*recall)/(precision+recall)\", F1],\n",
    "        [\"F2\", \"5*(precision*recall)/((4*precision)+recall)\", F2],\n",
    "        [\"F0.5\", \"1.25*(precision*recall)/((0.25*precision)+recall)\", F05]]\n",
    "col_names = [\"Evaluation Measure\", \"Formula\", \"Value\"]\n",
    "print(tabulate(data, headers=col_names, tablefmt=\"fancy_grid\"))"
   ],
   "metadata": {
    "collapsed": false,
    "pycharm": {
     "name": "#%%\n"
    }
   }
  }
 ],
 "metadata": {
  "kernelspec": {
   "display_name": "Python 3",
   "language": "python",
   "name": "python3"
  },
  "language_info": {
   "codemirror_mode": {
    "name": "ipython",
    "version": 2
   },
   "file_extension": ".py",
   "mimetype": "text/x-python",
   "name": "python",
   "nbconvert_exporter": "python",
   "pygments_lexer": "ipython2",
   "version": "2.7.6"
  }
 },
 "nbformat": 4,
 "nbformat_minor": 0
}