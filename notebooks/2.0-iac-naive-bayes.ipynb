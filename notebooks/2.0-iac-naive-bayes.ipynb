{
 "cells": [
  {
   "cell_type": "markdown",
   "source": [
    "# Naive Bayes Notebook"
   ],
   "metadata": {
    "collapsed": false
   }
  },
  {
   "cell_type": "code",
   "execution_count": 109,
   "metadata": {
    "collapsed": true
   },
   "outputs": [],
   "source": [
    "import pandas as pd\n",
    "import matplotlib.pyplot as plt\n",
    "from sklearn.model_selection import train_test_split\n",
    "from sklearn.naive_bayes import MultinomialNB\n",
    "from sklearn import metrics"
   ]
  },
  {
   "cell_type": "markdown",
   "source": [
    "## Testing for initial hypothesis LeaveOrNot ~ Gender + EverBenched + PaymentTier"
   ],
   "metadata": {
    "collapsed": false
   }
  },
  {
   "cell_type": "code",
   "execution_count": 110,
   "outputs": [],
   "source": [
    "employee = pd.read_csv(\"../data/employee_cleaned.csv\")"
   ],
   "metadata": {
    "collapsed": false,
    "pycharm": {
     "name": "#%%\n"
    }
   }
  },
  {
   "cell_type": "markdown",
   "source": [
    "## Encoding Categories via panda dummy variables"
   ],
   "metadata": {
    "collapsed": false
   }
  },
  {
   "cell_type": "code",
   "execution_count": 111,
   "outputs": [],
   "source": [
    "employee = pd.get_dummies(employee, columns=[\"Gender\", \"EverBenched\",\"PaymentTier\"])\n",
    "employee = employee.drop(columns=['Age', 'Education', 'ExperienceInCurrentDomain','City','JoiningYear','Duration'])"
   ],
   "metadata": {
    "collapsed": false,
    "pycharm": {
     "name": "#%%\n"
    }
   }
  },
  {
   "cell_type": "markdown",
   "source": [
    "## Partition Data prior to training model"
   ],
   "metadata": {
    "collapsed": false
   }
  },
  {
   "cell_type": "code",
   "execution_count": 112,
   "outputs": [],
   "source": [
    "X = employee.loc[:, employee.columns != 'LeaveOrNot']\n",
    "y = employee.loc[:, employee.columns == 'LeaveOrNot']"
   ],
   "metadata": {
    "collapsed": false,
    "pycharm": {
     "name": "#%%\n"
    }
   }
  },
  {
   "cell_type": "code",
   "execution_count": 113,
   "outputs": [],
   "source": [
    "X_train, X_test, y_train, y_test = train_test_split(X, y, test_size=0.40, random_state=7)"
   ],
   "metadata": {
    "collapsed": false,
    "pycharm": {
     "name": "#%%\n"
    }
   }
  },
  {
   "cell_type": "markdown",
   "source": [
    "## Running Naive Bayes Algorithm"
   ],
   "metadata": {
    "collapsed": false
   }
  },
  {
   "cell_type": "code",
   "execution_count": 114,
   "outputs": [],
   "source": [
    "nb = MultinomialNB().fit(X_train, y_train.values.ravel())"
   ],
   "metadata": {
    "collapsed": false,
    "pycharm": {
     "name": "#%%\n"
    }
   }
  },
  {
   "cell_type": "code",
   "execution_count": 115,
   "outputs": [],
   "source": [
    "y_pred = nb.predict(X_test)"
   ],
   "metadata": {
    "collapsed": false,
    "pycharm": {
     "name": "#%%\n"
    }
   }
  },
  {
   "cell_type": "markdown",
   "source": [
    "## Evaluating Naive Bayes Predictions"
   ],
   "metadata": {
    "collapsed": false
   }
  },
  {
   "cell_type": "code",
   "execution_count": 116,
   "outputs": [
    {
     "name": "stdout",
     "output_type": "stream",
     "text": [
      "Predicted    0    1  Total\n",
      "Actual                    \n",
      "0          598   52    650\n",
      "1          350  106    456\n",
      "Total      948  158   1106\n"
     ]
    }
   ],
   "source": [
    "ypred = pd.crosstab(y_test['LeaveOrNot'], y_pred, rownames = ['Actual'], colnames = ['Predicted'])\n",
    "ypred['Total'] = ypred.sum(axis=1); ypred.loc['Total'] = ypred.sum()\n",
    "print(ypred)"
   ],
   "metadata": {
    "collapsed": false,
    "pycharm": {
     "name": "#%%\n"
    }
   }
  },
  {
   "cell_type": "code",
   "execution_count": 117,
   "outputs": [
    {
     "name": "stdout",
     "output_type": "stream",
     "text": [
      "Accuracy: 0.6365280289330922\n",
      "Precision: 0.6708860759493671\n",
      "Recall: 0.2324561403508772\n"
     ]
    }
   ],
   "source": [
    "print(\"Accuracy:\",metrics.accuracy_score(y_test, y_pred))\n",
    "print(\"Precision:\",metrics.precision_score(y_test, y_pred))\n",
    "print(\"Recall:\",metrics.recall_score(y_test, y_pred))"
   ],
   "metadata": {
    "collapsed": false,
    "pycharm": {
     "name": "#%%\n"
    }
   }
  },
  {
   "cell_type": "code",
   "execution_count": 118,
   "outputs": [
    {
     "data": {
      "text/plain": "<Figure size 432x288 with 1 Axes>",
      "image/png": "[encoded data removed]"
     },
     "metadata": {
      "needs_background": "light"
     },
     "output_type": "display_data"
    }
   ],
   "source": [
    "y_pred_proba = nb.predict_proba(X_test)[::,1]\n",
    "fpr, tpr, _ = metrics.roc_curve(y_test,  y_pred_proba)\n",
    "auc = metrics.roc_auc_score(y_test, y_pred_proba)\n",
    "plt.plot(fpr,tpr,label=\"data 1, auc=\"+str(auc))\n",
    "plt.legend(loc=4)\n",
    "plt.show()"
   ],
   "metadata": {
    "collapsed": false,
    "pycharm": {
     "name": "#%%\n"
    }
   }
  },
  {
   "cell_type": "code",
   "execution_count": 119,
   "outputs": [],
   "source": [
    "TP = ypred[1][1]\n",
    "TN = ypred[0][0]\n",
    "FP = ypred[1][0]\n",
    "FN = ypred[0][1]\n",
    "TAN = TN + FP\n",
    "TAP = FN + TP\n",
    "TPN = TN + FN\n",
    "TPP = FP + TP\n",
    "GT = ypred['Total']['Total']"
   ],
   "metadata": {
    "collapsed": false,
    "pycharm": {
     "name": "#%%\n"
    }
   }
  },
  {
   "cell_type": "code",
   "execution_count": 120,
   "outputs": [],
   "source": [
    "from tabulate import tabulate"
   ],
   "metadata": {
    "collapsed": false,
    "pycharm": {
     "name": "#%%\n"
    }
   }
  },
  {
   "cell_type": "code",
   "execution_count": 121,
   "outputs": [],
   "source": [
    "accuracy = round((TN + TP) / GT, 4)\n",
    "sensitivity = round(TP / TAP, 4)\n",
    "specificity = round(TN / TAN, 4)\n",
    "precision = round(TP / TPP, 4)\n",
    "recall = round(TP / (TP + FN), 4)\n",
    "pxr = precision * recall\n",
    "ppr = precision + recall\n",
    "F1 = round((pxr / ppr) * 2, 4)\n",
    "F2 = round((pxr / ((4 * precision) + recall)) * 5, 4)\n",
    "F05 = round((pxr / ((0.25 * precision) + recall)) * 1.25, 4)"
   ],
   "metadata": {
    "collapsed": false,
    "pycharm": {
     "name": "#%%\n"
    }
   }
  },
  {
   "cell_type": "code",
   "execution_count": 122,
   "outputs": [
    {
     "name": "stdout",
     "output_type": "stream",
     "text": [
      "╒══════════════════════╤═══════════════════════════════════════════════════╤═════════╕\n",
      "│ Evaluation Measure   │ Formula                                           │   Value │\n",
      "╞══════════════════════╪═══════════════════════════════════════════════════╪═════════╡\n",
      "│ Accuracy             │ (TN+TP)/GT                                        │  0.6365 │\n",
      "├──────────────────────┼───────────────────────────────────────────────────┼─────────┤\n",
      "│ Error rate           │ 1-Accuracy                                        │  0.3635 │\n",
      "├──────────────────────┼───────────────────────────────────────────────────┼─────────┤\n",
      "│ Sensitivity = Recall │ TP/TAP                                            │  0.2325 │\n",
      "├──────────────────────┼───────────────────────────────────────────────────┼─────────┤\n",
      "│ Specificity          │ TN/TAN                                            │  0.92   │\n",
      "├──────────────────────┼───────────────────────────────────────────────────┼─────────┤\n",
      "│ Precision            │ TP/TPP                                            │  0.6709 │\n",
      "├──────────────────────┼───────────────────────────────────────────────────┼─────────┤\n",
      "│ F1                   │ 2*(precision*recall)/(precision+recall)           │  0.3453 │\n",
      "├──────────────────────┼───────────────────────────────────────────────────┼─────────┤\n",
      "│ F2                   │ 5*(precision*recall)/((4*precision)+recall)       │  0.2675 │\n",
      "├──────────────────────┼───────────────────────────────────────────────────┼─────────┤\n",
      "│ F0.5                 │ 1.25*(precision*recall)/((0.25*precision)+recall) │  0.4872 │\n",
      "╘══════════════════════╧═══════════════════════════════════════════════════╧═════════╛\n"
     ]
    }
   ],
   "source": [
    "data = [[\"Accuracy\", \"(TN+TP)/GT\", accuracy], [\"Error rate\", \"1-Accuracy\", 1 - accuracy],\n",
    "        [\"Sensitivity = Recall\", \"TP/TAP\", sensitivity], [\"Specificity\", \"TN/TAN\", specificity],\n",
    "        [\"Precision\", \"TP/TPP\", precision], [\"F1\", \"2*(precision*recall)/(precision+recall)\", F1],\n",
    "        [\"F2\", \"5*(precision*recall)/((4*precision)+recall)\", F2],\n",
    "        [\"F0.5\", \"1.25*(precision*recall)/((0.25*precision)+recall)\", F05]]\n",
    "col_names = [\"Evaluation Measure\", \"Formula\", \"Value\"]\n",
    "print(tabulate(data, headers=col_names, tablefmt=\"fancy_grid\"))"
   ],
   "metadata": {
    "collapsed": false,
    "pycharm": {
     "name": "#%%\n"
    }
   }
  },
  {
   "cell_type": "markdown",
   "source": [
    "## Testing for alt hypothesis LeaveOrNot ~ City + Gender + Duration + PaymentTier"
   ],
   "metadata": {
    "collapsed": false
   }
  },
  {
   "cell_type": "code",
   "execution_count": 123,
   "outputs": [],
   "source": [
    "#Resetting Dataframe\n",
    "employee = pd.read_csv(\"../data/employee_cleaned.csv\")"
   ],
   "metadata": {
    "collapsed": false,
    "pycharm": {
     "name": "#%%\n"
    }
   }
  },
  {
   "cell_type": "markdown",
   "source": [
    "## Encoding Categories via panda dummy variables"
   ],
   "metadata": {
    "collapsed": false
   }
  },
  {
   "cell_type": "code",
   "execution_count": 124,
   "outputs": [],
   "source": [
    "employee = pd.get_dummies(employee, columns=[\"City\",\"Gender\",\"Duration\", \"PaymentTier\"])\n",
    "employee = employee.drop(columns = ['Age','Education','EverBenched','ExperienceInCurrentDomain', 'JoiningYear'])"
   ],
   "metadata": {
    "collapsed": false,
    "pycharm": {
     "name": "#%%\n"
    }
   }
  },
  {
   "cell_type": "markdown",
   "source": [
    "## Partition Data prior to training model"
   ],
   "metadata": {
    "collapsed": false
   }
  },
  {
   "cell_type": "code",
   "execution_count": 125,
   "outputs": [],
   "source": [
    "X = employee.loc[:, employee.columns != 'LeaveOrNot']\n",
    "y = employee.loc[:, employee.columns == 'LeaveOrNot']"
   ],
   "metadata": {
    "collapsed": false,
    "pycharm": {
     "name": "#%%\n"
    }
   }
  },
  {
   "cell_type": "code",
   "execution_count": 126,
   "outputs": [],
   "source": [
    "X_train, X_test, y_train, y_test = train_test_split(X, y, test_size=0.40, random_state=7)"
   ],
   "metadata": {
    "collapsed": false,
    "pycharm": {
     "name": "#%%\n"
    }
   }
  },
  {
   "cell_type": "markdown",
   "source": [
    "## Running Naive Bayes Algorithm"
   ],
   "metadata": {
    "collapsed": false
   }
  },
  {
   "cell_type": "code",
   "execution_count": 127,
   "outputs": [],
   "source": [
    "nb = MultinomialNB().fit(X_train, y_train.values.ravel())"
   ],
   "metadata": {
    "collapsed": false,
    "pycharm": {
     "name": "#%%\n"
    }
   }
  },
  {
   "cell_type": "code",
   "execution_count": 128,
   "outputs": [],
   "source": [
    "y_pred = nb.predict(X_test)"
   ],
   "metadata": {
    "collapsed": false,
    "pycharm": {
     "name": "#%%\n"
    }
   }
  },
  {
   "cell_type": "markdown",
   "source": [
    "## Evaluating Naive Bayes Predictions"
   ],
   "metadata": {
    "collapsed": false
   }
  },
  {
   "cell_type": "code",
   "execution_count": 129,
   "outputs": [
    {
     "name": "stdout",
     "output_type": "stream",
     "text": [
      "Predicted    0    1  Total\n",
      "Actual                    \n",
      "0          579   71    650\n",
      "1          219  237    456\n",
      "Total      798  308   1106\n"
     ]
    }
   ],
   "source": [
    "ypred = pd.crosstab(y_test['LeaveOrNot'], y_pred, rownames = ['Actual'], colnames = ['Predicted'])\n",
    "ypred['Total'] = ypred.sum(axis=1); ypred.loc['Total'] = ypred.sum()\n",
    "print(ypred)"
   ],
   "metadata": {
    "collapsed": false,
    "pycharm": {
     "name": "#%%\n"
    }
   }
  },
  {
   "cell_type": "code",
   "execution_count": 130,
   "outputs": [
    {
     "name": "stdout",
     "output_type": "stream",
     "text": [
      "Accuracy: 0.7377938517179023\n",
      "Precision: 0.7694805194805194\n",
      "Recall: 0.5197368421052632\n"
     ]
    }
   ],
   "source": [
    "print(\"Accuracy:\",metrics.accuracy_score(y_test, y_pred))\n",
    "print(\"Precision:\",metrics.precision_score(y_test, y_pred))\n",
    "print(\"Recall:\",metrics.recall_score(y_test, y_pred))"
   ],
   "metadata": {
    "collapsed": false,
    "pycharm": {
     "name": "#%%\n"
    }
   }
  },
  {
   "cell_type": "code",
   "execution_count": 131,
   "outputs": [
    {
     "data": {
      "text/plain": "<Figure size 432x288 with 1 Axes>",
      "image/png": "[encoded data removed]"
     },
     "metadata": {
      "needs_background": "light"
     },
     "output_type": "display_data"
    }
   ],
   "source": [
    "y_pred_proba = nb.predict_proba(X_test)[::,1]\n",
    "fpr, tpr, _ = metrics.roc_curve(y_test,  y_pred_proba)\n",
    "auc = metrics.roc_auc_score(y_test, y_pred_proba)\n",
    "plt.plot(fpr,tpr,label=\"LeaveOrNot, auc=\"+str(auc))\n",
    "plt.legend(loc=4)\n",
    "plt.show()"
   ],
   "metadata": {
    "collapsed": false,
    "pycharm": {
     "name": "#%%\n"
    }
   }
  },
  {
   "cell_type": "code",
   "execution_count": 132,
   "outputs": [],
   "source": [
    "TP = ypred[1][1]\n",
    "TN = ypred[0][0]\n",
    "FP = ypred[1][0]\n",
    "FN = ypred[0][1]\n",
    "TAN = TN + FP\n",
    "TAP = FN + TP\n",
    "TPN = TN + FN\n",
    "TPP = FP + TP\n",
    "GT = ypred['Total']['Total']"
   ],
   "metadata": {
    "collapsed": false,
    "pycharm": {
     "name": "#%%\n"
    }
   }
  },
  {
   "cell_type": "code",
   "execution_count": 133,
   "outputs": [],
   "source": [
    "from tabulate import tabulate"
   ],
   "metadata": {
    "collapsed": false,
    "pycharm": {
     "name": "#%%\n"
    }
   }
  },
  {
   "cell_type": "code",
   "execution_count": 134,
   "outputs": [],
   "source": [
    "accuracy = round((TN + TP) / GT, 4)\n",
    "sensitivity = round(TP / TAP, 4)\n",
    "specificity = round(TN / TAN, 4)\n",
    "precision = round(TP / TPP, 4)\n",
    "recall = round(TP / (TP + FN), 4)\n",
    "pxr = precision * recall\n",
    "ppr = precision + recall\n",
    "F1 = round((pxr / ppr) * 2, 4)\n",
    "F2 = round((pxr / ((4 * precision) + recall)) * 5, 4)\n",
    "F05 = round((pxr / ((0.25 * precision) + recall)) * 1.25, 4)"
   ],
   "metadata": {
    "collapsed": false,
    "pycharm": {
     "name": "#%%\n"
    }
   }
  },
  {
   "cell_type": "code",
   "execution_count": 135,
   "outputs": [
    {
     "name": "stdout",
     "output_type": "stream",
     "text": [
      "╒══════════════════════╤═══════════════════════════════════════════════════╤═════════╕\n",
      "│ Evaluation Measure   │ Formula                                           │   Value │\n",
      "╞══════════════════════╪═══════════════════════════════════════════════════╪═════════╡\n",
      "│ Accuracy             │ (TN+TP)/GT                                        │  0.7378 │\n",
      "├──────────────────────┼───────────────────────────────────────────────────┼─────────┤\n",
      "│ Error rate           │ 1-Accuracy                                        │  0.2622 │\n",
      "├──────────────────────┼───────────────────────────────────────────────────┼─────────┤\n",
      "│ Sensitivity = Recall │ TP/TAP                                            │  0.5197 │\n",
      "├──────────────────────┼───────────────────────────────────────────────────┼─────────┤\n",
      "│ Specificity          │ TN/TAN                                            │  0.8908 │\n",
      "├──────────────────────┼───────────────────────────────────────────────────┼─────────┤\n",
      "│ Precision            │ TP/TPP                                            │  0.7695 │\n",
      "├──────────────────────┼───────────────────────────────────────────────────┼─────────┤\n",
      "│ F1                   │ 2*(precision*recall)/(precision+recall)           │  0.6204 │\n",
      "├──────────────────────┼───────────────────────────────────────────────────┼─────────┤\n",
      "│ F2                   │ 5*(precision*recall)/((4*precision)+recall)       │  0.5558 │\n",
      "├──────────────────────┼───────────────────────────────────────────────────┼─────────┤\n",
      "│ F0.5                 │ 1.25*(precision*recall)/((0.25*precision)+recall) │  0.702  │\n",
      "╘══════════════════════╧═══════════════════════════════════════════════════╧═════════╛\n"
     ]
    }
   ],
   "source": [
    "data = [[\"Accuracy\", \"(TN+TP)/GT\", accuracy], [\"Error rate\", \"1-Accuracy\", 1 - accuracy],\n",
    "        [\"Sensitivity = Recall\", \"TP/TAP\", sensitivity], [\"Specificity\", \"TN/TAN\", specificity],\n",
    "        [\"Precision\", \"TP/TPP\", precision], [\"F1\", \"2*(precision*recall)/(precision+recall)\", F1],\n",
    "        [\"F2\", \"5*(precision*recall)/((4*precision)+recall)\", F2],\n",
    "        [\"F0.5\", \"1.25*(precision*recall)/((0.25*precision)+recall)\", F05]]\n",
    "col_names = [\"Evaluation Measure\", \"Formula\", \"Value\"]\n",
    "print(tabulate(data, headers=col_names, tablefmt=\"fancy_grid\"))"
   ],
   "metadata": {
    "collapsed": false,
    "pycharm": {
     "name": "#%%\n"
    }
   }
  }
 ],
 "metadata": {
  "kernelspec": {
   "display_name": "Python 3",
   "language": "python",
   "name": "python3"
  },
  "language_info": {
   "codemirror_mode": {
    "name": "ipython",
    "version": 2
   },
   "file_extension": ".py",
   "mimetype": "text/x-python",
   "name": "python",
   "nbconvert_exporter": "python",
   "pygments_lexer": "ipython2",
   "version": "2.7.6"
  }
 },
 "nbformat": 4,
 "nbformat_minor": 0
}